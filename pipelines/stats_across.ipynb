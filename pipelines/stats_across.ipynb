{
 "cells": [
  {
   "cell_type": "code",
   "execution_count": 3,
   "metadata": {},
   "outputs": [],
   "source": [
    "result_dir = \"/mnt/volume1/qyc/auto-annot/result_across/\"\n",
    "# tools = [\"RF\",\"scVI\", \"singleCellNet\", \"SingleR\", \"SVM\"]\n",
    "tools = [\"RF\", \"singleCellNet\", \"SingleR\", \"SVM\"]"
   ]
  },
  {
   "cell_type": "code",
   "execution_count": 11,
   "metadata": {},
   "outputs": [],
   "source": [
    "import pandas as pd\n",
    "import numpy as np\n",
    "from sklearn.metrics import accuracy_score, f1_score, precision_score, recall_score, confusion_matrix\n",
    "import seaborn as sns\n",
    "import matplotlib.pyplot as plt"
   ]
  },
  {
   "cell_type": "code",
   "execution_count": 7,
   "metadata": {},
   "outputs": [],
   "source": [
    "pred_labels_list = []\n",
    "true_labels_list = []\n",
    "time_list = []\n",
    "for tool in tools:\n",
    "    pred_labels_list.append(pd.read_csv(f\"{result_dir}{tool}/{tool}_Pred_Labels.csv\"))\n",
    "    true_labels_list.append(pd.read_csv(f\"{result_dir}{tool}/{tool}_True_Labels.csv\"))\n",
    "    time_list.append(pd.read_csv(f\"{result_dir}{tool}/{tool}_Total_Time.csv\").iloc[0,0])"
   ]
  },
  {
   "cell_type": "code",
   "execution_count": 12,
   "metadata": {},
   "outputs": [],
   "source": [
    "# Function to calculate metrics\n",
    "def calculate_metrics(y_true, y_pred):\n",
    "\n",
    "    f1_scores = f1_score(y_true, y_pred, average=None)\n",
    "\n",
    "    metrics = {\n",
    "        'Accuracy': accuracy_score(y_true, y_pred),\n",
    "        'Macro F1': f1_score(y_true, y_pred, average='macro'),\n",
    "        'Median F1': np.median(f1_scores),\n",
    "        'Weighted F1': f1_score(y_true, y_pred, average='weighted'),\n",
    "        'Macro Precision': precision_score(y_true, y_pred, average='macro'),\n",
    "        'Macro Recall': recall_score(y_true, y_pred, average='macro'),\n",
    "    }\n",
    "    return metrics"
   ]
  },
  {
   "cell_type": "code",
   "execution_count": 13,
   "metadata": {},
   "outputs": [
    {
     "name": "stderr",
     "output_type": "stream",
     "text": [
      "/home/srtp/anaconda3/envs/bidcell/lib/python3.10/site-packages/sklearn/metrics/_classification.py:1509: UndefinedMetricWarning: Recall is ill-defined and being set to 0.0 in labels with no true samples. Use `zero_division` parameter to control this behavior.\n",
      "  _warn_prf(average, modifier, f\"{metric.capitalize()} is\", len(result))\n"
     ]
    },
    {
     "name": "stdout",
     "output_type": "stream",
     "text": [
      "\n",
      "Performance Metrics for Each Tool:\n",
      "               Accuracy  Macro F1  Median F1  Weighted F1  Macro Precision  \\\n",
      "RF               0.9969    0.9958     0.9973       0.9969           0.9977   \n",
      "singleCellNet    0.9736    0.9760     0.9866       0.9735           0.9791   \n",
      "SingleR          0.7098    0.6701     0.7464       0.7231           0.6949   \n",
      "SVM              0.9974    0.8723     0.9969       0.9974           0.8726   \n",
      "\n",
      "               Macro Recall   Time (s)  \n",
      "RF                   0.9939    84.6806  \n",
      "singleCellNet        0.9731  1122.9200  \n",
      "SingleR              0.7213   632.0059  \n",
      "SVM                  0.8721    19.1795  \n"
     ]
    },
    {
     "name": "stderr",
     "output_type": "stream",
     "text": [
      "/home/srtp/anaconda3/envs/bidcell/lib/python3.10/site-packages/sklearn/metrics/_classification.py:1509: UndefinedMetricWarning: Recall is ill-defined and being set to 0.0 in labels with no true samples. Use `zero_division` parameter to control this behavior.\n",
      "  _warn_prf(average, modifier, f\"{metric.capitalize()} is\", len(result))\n"
     ]
    }
   ],
   "source": [
    "# Calculate metrics for each tool\n",
    "results = {}\n",
    "for i, tool in enumerate(tools):\n",
    "    y_true = true_labels_list[i].iloc[:, 0]\n",
    "    y_pred = pred_labels_list[i].iloc[:, 0]\n",
    "    results[tool] = calculate_metrics(y_true, y_pred)\n",
    "\n",
    "# Create a DataFrame with results\n",
    "results_df = pd.DataFrame(results).T\n",
    "results_df['Time (s)'] = time_list\n",
    "\n",
    "# Display results\n",
    "print(\"\\nPerformance Metrics for Each Tool:\")\n",
    "print(results_df.round(4))"
   ]
  },
  {
   "cell_type": "code",
   "execution_count": 34,
   "metadata": {},
   "outputs": [
    {
     "name": "stderr",
     "output_type": "stream",
     "text": [
      "/tmp/ipykernel_2610643/982679546.py:37: MatplotlibDeprecationWarning: The get_cmap function was deprecated in Matplotlib 3.7 and will be removed two minor releases later. Use ``matplotlib.colormaps[name]`` or ``matplotlib.colormaps.get_cmap(obj)`` instead.\n",
      "  base_cmap = cm.get_cmap('Blues', 256)\n",
      "findfont: Font family 'Arial' not found.\n",
      "findfont: Font family 'Arial' not found.\n",
      "findfont: Font family 'Arial' not found.\n",
      "findfont: Font family 'Arial' not found.\n",
      "findfont: Font family 'Arial' not found.\n",
      "findfont: Font family 'Arial' not found.\n",
      "findfont: Font family 'Arial' not found.\n",
      "findfont: Font family 'Arial' not found.\n",
      "findfont: Font family 'Arial' not found.\n",
      "findfont: Font family 'Arial' not found.\n",
      "findfont: Font family 'Arial' not found.\n",
      "findfont: Font family 'Arial' not found.\n",
      "findfont: Font family 'Arial' not found.\n",
      "findfont: Font family 'Arial' not found.\n",
      "findfont: Font family 'Arial' not found.\n",
      "findfont: Font family 'Arial' not found.\n",
      "findfont: Font family 'Arial' not found.\n",
      "findfont: Font family 'Arial' not found.\n",
      "findfont: Font family 'Arial' not found.\n",
      "findfont: Font family 'Arial' not found.\n",
      "findfont: Font family 'Arial' not found.\n",
      "findfont: Font family 'Arial' not found.\n",
      "findfont: Font family 'Arial' not found.\n",
      "findfont: Font family 'Arial' not found.\n",
      "findfont: Font family 'Arial' not found.\n",
      "findfont: Font family 'Arial' not found.\n",
      "findfont: Font family 'Arial' not found.\n",
      "findfont: Font family 'Arial' not found.\n",
      "findfont: Font family 'Arial' not found.\n",
      "findfont: Font family 'Arial' not found.\n",
      "findfont: Font family 'Arial' not found.\n",
      "findfont: Font family 'Arial' not found.\n",
      "findfont: Font family 'Arial' not found.\n",
      "findfont: Font family 'Arial' not found.\n",
      "findfont: Font family 'Arial' not found.\n",
      "findfont: Font family 'Arial' not found.\n",
      "findfont: Font family 'Arial' not found.\n",
      "findfont: Font family 'Arial' not found.\n",
      "findfont: Font family 'Arial' not found.\n",
      "findfont: Font family 'Arial' not found.\n",
      "findfont: Font family 'Arial' not found.\n",
      "findfont: Font family 'Arial' not found.\n",
      "findfont: Font family 'Arial' not found.\n",
      "findfont: Font family 'Arial' not found.\n",
      "findfont: Font family 'Arial' not found.\n",
      "findfont: Font family 'Arial' not found.\n",
      "findfont: Font family 'Arial' not found.\n",
      "findfont: Font family 'Arial' not found.\n",
      "findfont: Font family 'Arial' not found.\n",
      "findfont: Font family 'Arial' not found.\n",
      "findfont: Font family 'Arial' not found.\n",
      "findfont: Font family 'Arial' not found.\n",
      "findfont: Font family 'Arial' not found.\n",
      "findfont: Font family 'Arial' not found.\n",
      "findfont: Font family 'Arial' not found.\n",
      "findfont: Font family 'Arial' not found.\n",
      "findfont: Font family 'Arial' not found.\n",
      "findfont: Font family 'Arial' not found.\n"
     ]
    }
   ],
   "source": [
    "import matplotlib.pyplot as plt\n",
    "import matplotlib.cm as cm\n",
    "import matplotlib as mpl\n",
    "import matplotlib.colors as mcolors\n",
    "import numpy as np\n",
    "import pandas as pd\n",
    "\n",
    "# 设置字体为 Arial 并放大字号\n",
    "mpl.rcParams['font.family'] = 'Arial'\n",
    "mpl.rcParams['font.size'] = 18\n",
    "mpl.rcParams['axes.titlesize'] = 18\n",
    "mpl.rcParams['xtick.labelsize'] = 18\n",
    "mpl.rcParams['ytick.labelsize'] = 18\n",
    "plt.figure(figsize=(14, 7))\n",
    "\n",
    "# 指标\n",
    "metrics_to_plot = ['Accuracy', 'Median F1', 'Weighted F1', 'Macro Precision', 'Macro Recall']\n",
    "\n",
    "# Time Score（越小越好）\n",
    "max_time = results_df['Time (s)'].max()\n",
    "min_time = results_df['Time (s)'].min()\n",
    "results_df['Time Score'] = 1 - (results_df['Time (s)'] - min_time) / (max_time - min_time)\n",
    "results_df['Time Score'] = 0.7 + 0.3 * results_df['Time Score']\n",
    "\n",
    "# Total Score = 原始指标平均值\n",
    "results_df['Total Score'] = results_df[metrics_to_plot].mean(axis=1)\n",
    "\n",
    "# 按 Total Score 升序排序（分数高的在上）\n",
    "results_df = results_df.sort_values(by='Total Score', ascending=True)\n",
    "tools = results_df.index.tolist()\n",
    "\n",
    "# 所有指标列\n",
    "all_metrics = metrics_to_plot + ['Time Score', 'Total Score']\n",
    "metric_names = ['Accuracy', 'Median F1', 'Weighted F1', 'Precision', 'Recall', 'Time', 'Total Score']\n",
    "\n",
    "# 设置颜色映射：浅蓝到深蓝\n",
    "base_cmap = cm.get_cmap('Blues', 256)\n",
    "truncated_blues = mcolors.LinearSegmentedColormap.from_list(\n",
    "    'truncated_blues', base_cmap(np.linspace(0.3, 1.0, 256))\n",
    ")\n",
    "\n",
    "# 画图\n",
    "for j, metric in enumerate(all_metrics):\n",
    "    for i, tool in enumerate(tools):\n",
    "        value = results_df.loc[tool, metric]\n",
    "        size = value * 2000\n",
    "        norm = (value - results_df[metric].min()) / (results_df[metric].max() - results_df[metric].min())\n",
    "        color = truncated_blues(norm)\n",
    "        plt.scatter(j, i, s=size, alpha=0.9, color=color, edgecolor='k', linewidth=0.3)\n",
    "\n",
    "# 美化图像\n",
    "# 美化图像\n",
    "plt.yticks(range(len(tools)), tools)\n",
    "plt.xticks(range(len(metric_names)), metric_names, rotation=0)\n",
    "\n",
    "# 调整纵向点间距，让点更接近\n",
    "plt.ylim(-0.5, len(tools) - 0.5)\n",
    "\n",
    "plt.title('')\n",
    "plt.tight_layout()\n",
    "plt.savefig('performance_metrics_sorted_scatter.pdf', bbox_inches='tight')\n",
    "plt.close()\n",
    "\n",
    "# 保存结果\n",
    "results_df.to_csv('performance_metrics_results.csv')\n"
   ]
  }
 ],
 "metadata": {
  "kernelspec": {
   "display_name": "bidcell",
   "language": "python",
   "name": "python3"
  },
  "language_info": {
   "codemirror_mode": {
    "name": "ipython",
    "version": 3
   },
   "file_extension": ".py",
   "mimetype": "text/x-python",
   "name": "python",
   "nbconvert_exporter": "python",
   "pygments_lexer": "ipython3",
   "version": "3.10.14"
  }
 },
 "nbformat": 4,
 "nbformat_minor": 2
}
