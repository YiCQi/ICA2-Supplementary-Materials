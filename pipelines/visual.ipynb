{
 "cells": [
  {
   "cell_type": "code",
   "execution_count": 1,
   "metadata": {
    "vscode": {
     "languageId": "r"
    }
   },
   "outputs": [
    {
     "name": "stderr",
     "output_type": "stream",
     "text": [
      "Warning message:\n",
      "“package ‘ggplot2’ was built under R version 4.4.3”\n",
      "Warning message:\n",
      "“package ‘readr’ was built under R version 4.4.1”\n",
      "Warning message:\n",
      "“package ‘dplyr’ was built under R version 4.4.1”\n",
      "\n",
      "Attaching package: ‘dplyr’\n",
      "\n",
      "\n",
      "The following objects are masked from ‘package:stats’:\n",
      "\n",
      "    filter, lag\n",
      "\n",
      "\n",
      "The following objects are masked from ‘package:base’:\n",
      "\n",
      "    intersect, setdiff, setequal, union\n",
      "\n",
      "\n"
     ]
    }
   ],
   "source": [
    "result_dir <- \"/mnt/volume1/qyc/auto-annot/results/\"\n",
    "tools <- c(\"RF\",\"scVI\", \"singleCellNet\", \"SingleR\", \"SVM\")\n",
    "\n",
    "# Load required libraries\n",
    "library(ggplot2)\n",
    "library(readr)\n",
    "library(dplyr)"
   ]
  },
  {
   "cell_type": "code",
   "execution_count": 2,
   "metadata": {
    "vscode": {
     "languageId": "r"
    }
   },
   "outputs": [],
   "source": [
    "read_time_data <- function(tool, sample) {\n",
    "  # Try to read total time first\n",
    "  total_time_file <- file.path(result_dir, tool, sample, paste0(tool, \"_Total_Time.csv\"))\n",
    "  if (file.exists(total_time_file)) {\n",
    "    time_data <- read.csv(total_time_file, header = FALSE)\n",
    "    # Skip the first row (0.0) and calculate mean and sd of the next 5 rows\n",
    "    times <- as.numeric(time_data$V1[2:6])\n",
    "    return(list(mean = mean(times), sd = sd(times)))\n",
    "  }\n",
    "  \n",
    "  # If total time doesn't exist, calculate from train + test\n",
    "  train_time_file <- file.path(result_dir, tool, sample, paste0(tool, \"_Training_Time.csv\"))\n",
    "  test_time_file <- file.path(result_dir, tool, sample, paste0(tool, \"_Testing_Time.csv\"))\n",
    "  \n",
    "  if (file.exists(train_time_file) && file.exists(test_time_file)) {\n",
    "    train_times <- as.numeric(read.csv(train_time_file, header = FALSE)$V1[2:6])\n",
    "    test_times <- as.numeric(read.csv(test_time_file, header = FALSE)$V1[2:6])\n",
    "    total_times <- train_times + test_times\n",
    "    return(list(mean = mean(total_times), sd = sd(total_times)))\n",
    "  }\n",
    "  \n",
    "  return(list(mean = NA, sd = NA))\n",
    "}"
   ]
  },
  {
   "cell_type": "code",
   "execution_count": 3,
   "metadata": {
    "vscode": {
     "languageId": "r"
    }
   },
   "outputs": [],
   "source": [
    "get_cell_number <- function(sample) {\n",
    "  data_paths <- list(\n",
    "    \"10Xv2_pbmc1\" = \"/mnt/volume1/qyc/data/Inter-dataset/PbmcBench/10Xv2/10Xv2_pbmc1.csv\",\n",
    "    \"10Xv3_pbmc1\" = \"/mnt/volume1/qyc/data/Inter-dataset/PbmcBench/10Xv3/10Xv3_pbmc1.csv\",\n",
    "    \"CL_pbmc1\" = \"/mnt/volume1/qyc/data/Inter-dataset/PbmcBench/CEL-Seq/CL_pbmc1.csv\",\n",
    "    \"10x_5cl_data\" = \"/mnt/volume1/qyc/data/Intra-dataset/CellBench/10x_5cl/10x_5cl_data.csv\",\n",
    "    \"CelSeq2_5cl_data\" = \"/mnt/volume1/qyc/data/Intra-dataset/CellBench/CelSeq2_5cl/CelSeq2_5cl_data.csv\",\n",
    "    \"Filtered_Muraro_HumanPancreas_data\" = \"/mnt/volume1/qyc/data/Intra-dataset/Pancreatic_data/Muraro/Filtered_Muraro_HumanPancreas_data.csv\",\n",
    "    \"Filtered_Segerstolpe_HumanPancreas_data\" = \"/mnt/volume1/qyc/data/Intra-dataset/Pancreatic_data/Segerstolpe/Filtered_Segerstolpe_HumanPancreas_data.csv\",\n",
    "    \"Filtered_mouse_allen_brain_data\" = \"/mnt/volume1/qyc/data/Intra-dataset/AMB/Filtered_mouse_allen_brain_data.csv\"\n",
    "  )\n",
    "  \n",
    "  if (sample %in% names(data_paths)) {\n",
    "    # Use readLines to count lines and subtract 1 for header\n",
    "    lines <- readLines(data_paths[[sample]])\n",
    "    return(length(lines) - 1)  # subtract 1 for header\n",
    "  }\n",
    "  return(NA)\n",
    "}"
   ]
  },
  {
   "cell_type": "code",
   "execution_count": 4,
   "metadata": {
    "vscode": {
     "languageId": "r"
    }
   },
   "outputs": [],
   "source": [
    "# Get all samples\n",
    "samples <- list.dirs(file.path(result_dir, tools[1]), full.names = FALSE, recursive = FALSE)"
   ]
  },
  {
   "cell_type": "code",
   "execution_count": 5,
   "metadata": {
    "vscode": {
     "languageId": "r"
    }
   },
   "outputs": [
    {
     "name": "stdout",
     "output_type": "stream",
     "text": [
      "[1] \"Initial plot_data dimensions:\"\n",
      "[1] 40  2\n",
      "[1] \"Number of time_data entries:\"\n",
      "[1] 40\n",
      "[1] \"First few time_data entries:\"\n",
      "[[1]]\n",
      "[[1]]$mean\n",
      "[1] 1.266581\n",
      "\n",
      "[[1]]$sd\n",
      "[1] 0.0215766\n",
      "\n",
      "\n",
      "[[2]]\n",
      "[[2]]$mean\n",
      "[1] 174.2074\n",
      "\n",
      "[[2]]$sd\n",
      "[1] 1.233607\n",
      "\n",
      "\n",
      "[[3]]\n",
      "[[3]]$mean\n",
      "[1] 83.9404\n",
      "\n",
      "[[3]]$sd\n",
      "[1] 1.875673\n",
      "\n",
      "\n",
      "[[4]]\n",
      "[[4]]$mean\n",
      "[1] 2.973113\n",
      "\n",
      "[[4]]$sd\n",
      "[1] 0.04285689\n",
      "\n",
      "\n",
      "[[5]]\n",
      "[[5]]$mean\n",
      "[1] 1.457265\n",
      "\n",
      "[[5]]$sd\n",
      "[1] 0.01587113\n",
      "\n",
      "\n",
      "[[6]]\n",
      "[[6]]$mean\n",
      "[1] 16.3081\n",
      "\n",
      "[[6]]$sd\n",
      "[1] 1.837477\n",
      "\n",
      "\n",
      "[1] \"Number of non-NA time_mean values:\"\n",
      "[1] 40\n",
      "[1] \"Number of non-NA cell_number values:\"\n",
      "[1] 40\n",
      "[1] \"Final plot_data dimensions:\"\n",
      "[1] 40  5\n",
      "[1] \"First few rows of final data:\"\n",
      "           tool       sample  time_mean    time_sd cell_number\n",
      "1            RF 10x_5cl_data   1.266581 0.02157660       23154\n",
      "2          scVI 10x_5cl_data 174.207435 1.23360724       23154\n",
      "3 singleCellNet 10x_5cl_data  83.940402 1.87567313       23154\n",
      "4       SingleR 10x_5cl_data   2.973113 0.04285689       23154\n",
      "5           SVM 10x_5cl_data   1.457265 0.01587113       23154\n",
      "6            RF  10Xv2_pbmc1  16.308095 1.83747742       19690\n"
     ]
    }
   ],
   "source": [
    "# Create data frame for plotting\n",
    "plot_data <- expand.grid(tool = tools, sample = samples)\n",
    "print(\"Initial plot_data dimensions:\")\n",
    "print(dim(plot_data))\n",
    "\n",
    "# Debug time_data\n",
    "time_data <- Map(read_time_data, plot_data$tool, plot_data$sample)\n",
    "print(\"Number of time_data entries:\")\n",
    "print(length(time_data))\n",
    "print(\"First few time_data entries:\")\n",
    "print(head(time_data))\n",
    "\n",
    "# Debug mean and sd extraction\n",
    "plot_data$time_mean <- sapply(time_data, function(x) x$mean)\n",
    "plot_data$time_sd <- sapply(time_data, function(x) x$sd)\n",
    "print(\"Number of non-NA time_mean values:\")\n",
    "print(sum(!is.na(plot_data$time_mean)))\n",
    "\n",
    "# Debug cell numbers\n",
    "plot_data$cell_number <- sapply(plot_data$sample, get_cell_number)\n",
    "print(\"Number of non-NA cell_number values:\")\n",
    "print(sum(!is.na(plot_data$cell_number)))\n",
    "\n",
    "# Remove rows with NA values\n",
    "plot_data <- plot_data[!is.na(plot_data$time_mean) & !is.na(plot_data$cell_number), ]\n",
    "print(\"Final plot_data dimensions:\")\n",
    "print(dim(plot_data))\n",
    "\n",
    "# Print first few rows of final data\n",
    "print(\"First few rows of final data:\")\n",
    "print(head(plot_data))"
   ]
  },
  {
   "cell_type": "code",
   "execution_count": 6,
   "metadata": {
    "vscode": {
     "languageId": "r"
    }
   },
   "outputs": [
    {
     "data": {
      "text/html": [
       "<strong>pdf:</strong> 2"
      ],
      "text/latex": [
       "\\textbf{pdf:} 2"
      ],
      "text/markdown": [
       "**pdf:** 2"
      ],
      "text/plain": [
       "pdf \n",
       "  2 "
      ]
     },
     "metadata": {},
     "output_type": "display_data"
    }
   ],
   "source": [
    "# scale 8:6\n",
    "options(repr.plot.width=8, repr.plot.height=6)\n",
    "\n",
    "# Create the line plot\n",
    "p <- ggplot(plot_data[!plot_data$sample %in% c(\"Filtered_mouse_allen_brain_data\",\"CL_pbmc1\"), ], aes(x = cell_number, y = time_mean, color = tool)) +\n",
    "  geom_line() +\n",
    "  geom_point() +\n",
    "  geom_errorbar(aes(ymin = time_mean - time_sd, ymax = time_mean + time_sd), width = 0.05) +\n",
    "  scale_x_log10(breaks = c(2000, 3000, 5000, 10000, 20000, 30000)) +\n",
    "  scale_y_log10() +\n",
    "  scale_color_brewer(palette = \"Set1\") +\n",
    "  labs(x = \"Number of Cells (log scale)\",\n",
    "       y = \"Time (seconds, log scale)\",\n",
    "       color = \"Tool\") +\n",
    "  theme_minimal() +\n",
    "  theme(legend.position = \"bottom\",\n",
    "        text = element_text(size = 16),\n",
    "        axis.title = element_text(size = 16),\n",
    "        legend.text = element_text(size = 16),\n",
    "        panel.grid = element_blank(),  # 移除所有网格线\n",
    "        axis.line = element_line(color = \"black\"),  # 添加坐标轴线\n",
    "        panel.border = element_blank(),\n",
    "        axis.ticks = element_line(color = \"black\"),  # 添加刻度线\n",
    "        axis.ticks.length = unit(0.2, \"cm\"))  # 设置刻度线长度\n",
    "\n",
    "# Save plot to PDF\n",
    "pdf(\"runtime_comparison.pdf\", width = 8, height = 6)\n",
    "print(p)\n",
    "dev.off()"
   ]
  },
  {
   "cell_type": "code",
   "execution_count": 70,
   "metadata": {
    "vscode": {
     "languageId": "r"
    }
   },
   "outputs": [],
   "source": [
    "# 定义评估指标计算函数\n",
    "calculate_metrics <- function(true_labels, pred_labels) {\n",
    "  # 计算混淆矩阵\n",
    "  conf <- table(true_labels, pred_labels)\n",
    "  \n",
    "  # 计算每个类别的F1分数\n",
    "  unique_true <- unique(true_labels)\n",
    "  unique_pred <- unique(pred_labels)\n",
    "  unique_all <- unique(c(unique_true, unique_pred))\n",
    "  \n",
    "  # 处理未标记的预测\n",
    "  pred_lab_clean <- gsub('Node..', 'Node', pred_labels)\n",
    "  conf_F1 <- table(true_labels, pred_lab_clean, \n",
    "                  exclude = c('unassigned', 'Unassigned', 'Unknown', 'rand', 'Node', 'ambiguous', 'unknown'))\n",
    "  \n",
    "  # 计算F1分数\n",
    "  F1 <- vector()\n",
    "  sum_acc <- 0\n",
    "  \n",
    "  for (i in 1:length(unique_true)) {\n",
    "    findLabel = colnames(conf_F1) == rownames(conf_F1)[i]\n",
    "    if(sum(findLabel)) {\n",
    "      prec <- conf_F1[i,findLabel] / colSums(conf_F1)[findLabel]\n",
    "      rec <- conf_F1[i,findLabel] / rowSums(conf_F1)[i]\n",
    "      if (prec == 0 || rec == 0) {\n",
    "        F1[i] = 0\n",
    "      } else {\n",
    "        F1[i] <- (2*prec*rec) / (prec + rec)\n",
    "      }\n",
    "      sum_acc <- sum_acc + conf_F1[i,findLabel]\n",
    "    } else {\n",
    "      F1[i] = 0\n",
    "    }\n",
    "  }\n",
    "  \n",
    "  # 计算其他指标\n",
    "  med_F1 <- median(F1)\n",
    "  total <- length(pred_labels)\n",
    "  num_unlab <- sum(pred_labels == 'unassigned') + \n",
    "               sum(pred_labels == 'Unassigned') + \n",
    "               sum(pred_labels == 'rand') + \n",
    "               sum(pred_labels == 'Unknown') + \n",
    "               sum(pred_labels == 'unknown') + \n",
    "               sum(pred_labels == 'Node') + \n",
    "               sum(pred_labels == 'ambiguous')\n",
    "  per_unlab <- num_unlab / total\n",
    "  acc <- sum_acc/sum(conf_F1)\n",
    "  \n",
    "  return(list(MedF1 = med_F1, Acc = acc, PercUnl = per_unlab))\n",
    "}"
   ]
  },
  {
   "cell_type": "code",
   "execution_count": 71,
   "metadata": {
    "vscode": {
     "languageId": "r"
    }
   },
   "outputs": [
    {
     "name": "stdout",
     "output_type": "stream",
     "text": [
      "            tool                                  sample     MedF1  Accuracy\n",
      "1             RF                            10x_5cl_data 1.0000000 1.0000000\n",
      "2             RF                             10Xv2_pbmc1 0.8400040 0.8655524\n",
      "3             RF                             10Xv3_pbmc1 0.8345773 0.8596242\n",
      "4             RF                        CelSeq2_5cl_data 1.0000000 0.9982456\n",
      "5             RF                                CL_pbmc1 0.8521669 0.8667105\n",
      "6             RF         Filtered_mouse_allen_brain_data 0.9799303 0.9827694\n",
      "7             RF      Filtered_Muraro_HumanPancreas_data 0.9646942 0.9712128\n",
      "8             RF Filtered_Segerstolpe_HumanPancreas_data 0.9875425 0.9748934\n",
      "9           scVI                            10x_5cl_data 1.0000000 1.0000000\n",
      "10          scVI                             10Xv2_pbmc1 0.8909863 0.9160836\n",
      "11          scVI                             10Xv3_pbmc1 0.9022683 0.8889284\n",
      "12          scVI                        CelSeq2_5cl_data 1.0000000 1.0000000\n",
      "13          scVI                                CL_pbmc1 0.9454668 0.9342918\n",
      "14          scVI         Filtered_mouse_allen_brain_data 0.5660466 0.8808670\n",
      "15          scVI      Filtered_Muraro_HumanPancreas_data 0.9618962 0.9679094\n",
      "16          scVI Filtered_Segerstolpe_HumanPancreas_data 0.9416149 0.9578399\n",
      "17 singleCellNet                            10x_5cl_data 1.0000000 1.0000000\n",
      "18 singleCellNet                             10Xv2_pbmc1 0.8521401 0.8827416\n",
      "19 singleCellNet                             10Xv3_pbmc1 0.8576966 0.8835957\n",
      "20 singleCellNet                        CelSeq2_5cl_data 1.0000000 1.0000000\n",
      "21 singleCellNet                                CL_pbmc1 0.8652472 0.8828592\n",
      "22 singleCellNet         Filtered_mouse_allen_brain_data 1.0000000 1.0000000\n",
      "23 singleCellNet      Filtered_Muraro_HumanPancreas_data 0.9740471 0.9773264\n",
      "24 singleCellNet Filtered_Segerstolpe_HumanPancreas_data 0.9937107 0.9867236\n",
      "25       SingleR                            10x_5cl_data 1.0000000 0.9997370\n",
      "26       SingleR                             10Xv2_pbmc1 0.7954706 0.7654401\n",
      "27       SingleR                             10Xv3_pbmc1 0.7475581 0.7115795\n",
      "28       SingleR                        CelSeq2_5cl_data 1.0000000 1.0000000\n",
      "29       SingleR                                CL_pbmc1 0.7427151 0.7460261\n",
      "30       SingleR         Filtered_mouse_allen_brain_data 0.9565217 0.9643692\n",
      "31       SingleR      Filtered_Muraro_HumanPancreas_data 0.9547297 0.9622463\n",
      "32       SingleR Filtered_Segerstolpe_HumanPancreas_data 0.9922481 0.9753671\n",
      "33           SVM                            10x_5cl_data 1.0000000 1.0000000\n",
      "34           SVM                             10Xv2_pbmc1 0.8657214 0.8961734\n",
      "35           SVM                             10Xv3_pbmc1 0.8678121 0.8945150\n",
      "36           SVM                        CelSeq2_5cl_data 1.0000000 1.0000000\n",
      "37           SVM                                CL_pbmc1 0.8740503 0.8964767\n",
      "38           SVM         Filtered_mouse_allen_brain_data 0.9911331 0.9923593\n",
      "39           SVM      Filtered_Muraro_HumanPancreas_data 0.9674359 0.9768759\n",
      "40           SVM Filtered_Segerstolpe_HumanPancreas_data 0.9971380 0.9881573\n",
      "        PercUnl\n",
      "1  0.0000000000\n",
      "2  0.0000000000\n",
      "3  0.0000000000\n",
      "4  0.0000000000\n",
      "5  0.0000000000\n",
      "6  0.0000000000\n",
      "7  0.0000000000\n",
      "8  0.0000000000\n",
      "9  0.0000000000\n",
      "10 0.0000000000\n",
      "11 0.0000000000\n",
      "12 0.0000000000\n",
      "13 0.0000000000\n",
      "14 0.0000000000\n",
      "15 0.0000000000\n",
      "16 0.0000000000\n",
      "17 0.0005259006\n",
      "18 0.0000000000\n",
      "19 0.0000000000\n",
      "20 0.0000000000\n",
      "21 0.0000000000\n",
      "22 0.0005457664\n",
      "23 0.0009438414\n",
      "24 0.0009474183\n",
      "25 0.0000000000\n",
      "26 0.0000000000\n",
      "27 0.0000000000\n",
      "28 0.0000000000\n",
      "29 0.0000000000\n",
      "30 0.0000000000\n",
      "31 0.0000000000\n",
      "32 0.0000000000\n",
      "33 0.0000000000\n",
      "34 0.0000000000\n",
      "35 0.0000000000\n",
      "36 0.0000000000\n",
      "37 0.0000000000\n",
      "38 0.0000000000\n",
      "39 0.0000000000\n",
      "40 0.0000000000\n"
     ]
    }
   ],
   "source": [
    "# 创建评估结果矩阵\n",
    "create_evaluation_matrix <- function() {\n",
    "  # 获取所有工具和样本\n",
    "  tools <- c(\"RF\", \"scVI\", \"singleCellNet\", \"SingleR\", \"SVM\")\n",
    "  result_dir <- \"/mnt/volume1/qyc/auto-annot/results/\"\n",
    "  \n",
    "  # 获取所有样本\n",
    "  samples <- list.dirs(file.path(result_dir, tools[1]), full.names = FALSE, recursive = FALSE)\n",
    "  \n",
    "  # 创建结果数据框\n",
    "  eval_results <- data.frame()\n",
    "  \n",
    "  # 对每个工具和样本计算指标\n",
    "  for (tool in tools) {\n",
    "    for (sample in samples) {\n",
    "      # 读取预测标签和真实标签\n",
    "      pred_file <- file.path(result_dir, tool, sample, paste0(tool, \"_Pred_Labels.csv\"))\n",
    "      true_file <- file.path(result_dir, tool, sample, paste0(tool, \"_True_Labels.csv\"))\n",
    "      \n",
    "      if (file.exists(pred_file) && file.exists(true_file)) {\n",
    "        pred_labels <- unlist(read.csv(pred_file))\n",
    "        true_labels <- unlist(read.csv(true_file))\n",
    "        \n",
    "        # 计算指标\n",
    "        metrics <- calculate_metrics(true_labels, pred_labels)\n",
    "        \n",
    "        # 添加到结果数据框\n",
    "        new_row <- data.frame(\n",
    "          tool = tool,\n",
    "          sample = sample,\n",
    "          MedF1 = metrics$MedF1,\n",
    "          Accuracy = metrics$Acc,\n",
    "          PercUnl = metrics$PercUnl\n",
    "        )\n",
    "        eval_results <- rbind(eval_results, new_row)\n",
    "      }\n",
    "    }\n",
    "  }\n",
    "  \n",
    "  return(eval_results)\n",
    "}\n",
    "\n",
    "# 生成评估结果矩阵\n",
    "eval_matrix <- create_evaluation_matrix()\n",
    "\n",
    "# 显示结果\n",
    "print(eval_matrix)"
   ]
  },
  {
   "cell_type": "code",
   "execution_count": 123,
   "metadata": {
    "vscode": {
     "languageId": "r"
    }
   },
   "outputs": [
    {
     "data": {
      "text/html": [
       "<strong>pdf:</strong> 2"
      ],
      "text/latex": [
       "\\textbf{pdf:} 2"
      ],
      "text/markdown": [
       "**pdf:** 2"
      ],
      "text/plain": [
       "pdf \n",
       "  2 "
      ]
     },
     "metadata": {},
     "output_type": "display_data"
    },
    {
     "data": {
      "text/html": [
       "<strong>pdf:</strong> 2"
      ],
      "text/latex": [
       "\\textbf{pdf:} 2"
      ],
      "text/markdown": [
       "**pdf:** 2"
      ],
      "text/plain": [
       "pdf \n",
       "  2 "
      ]
     },
     "metadata": {},
     "output_type": "display_data"
    }
   ],
   "source": [
    "options(repr.plot.width=12, repr.plot.height=10)\n",
    "\n",
    "library(ggplot2)\n",
    "library(dplyr)\n",
    "\n",
    "# 假设 eval_matrix 有这些列：tool, sample, MedF1, Accuracy\n",
    "\n",
    "# 长格式转换，方便画图（可选）\n",
    "library(tidyr)\n",
    "library(viridis)\n",
    "\n",
    "long_data <- eval_matrix %>%\n",
    "  pivot_longer(cols = c(MedF1, Accuracy),\n",
    "               names_to = \"Metric\", values_to = \"Value\")\n",
    "\n",
    "# 按指标拆分数据\n",
    "data_medf1 <- long_data %>% filter(Metric == \"MedF1\")\n",
    "data_acc <- long_data %>% filter(Metric == \"Accuracy\")\n",
    "\n",
    "# Step 1: 按 MedF1 计算 tool 的均值\n",
    "tool_order <- data_medf1 %>%\n",
    "  group_by(tool) %>%\n",
    "  summarize(mean_value = mean(Value)) %>%\n",
    "  arrange(desc(mean_value)) %>%  # 从高到低排序\n",
    "  pull(tool)\n",
    "\n",
    "# Step 2: 设置 tool 的 factor 顺序\n",
    "data_medf1$tool <- factor(data_medf1$tool, levels = tool_order)\n",
    "\n",
    "# Step 3: 同样处理 Accuracy 数据\n",
    "tool_order_acc <- data_acc %>%\n",
    "  group_by(tool) %>%\n",
    "  summarize(mean_value = mean(Value)) %>%\n",
    "  arrange(desc(mean_value)) %>%\n",
    "  pull(tool)\n",
    "\n",
    "data_acc$tool <- factor(data_acc$tool, levels = tool_order_acc)\n",
    "\n",
    "# 画 MedF1 热图\n",
    "p_medf1 <- ggplot(data_medf1, aes(x = tool, y = sample, fill = Value)) +\n",
    "  geom_tile(color = \"white\") +\n",
    "  geom_text(aes(label = sprintf(\"%.2f\", Value)), color = \"white\", size = 6) +\n",
    "  scale_fill_viridis(option = \"D\", direction = 1, name = \"Value\")+\n",
    "  theme_minimal() +\n",
    "  labs(title = \"\", fill = \"MedF1\") +\n",
    "  theme(\n",
    "    axis.text.x = element_text(angle = 0, hjust = 0.5, size = 20),\n",
    "    axis.text.y = element_text(size = 20),\n",
    "    axis.title.x = element_text(size = 20),\n",
    "    axis.title.y = element_text(size = 20),\n",
    "    legend.title = element_text(size = 20),\n",
    "    legend.text = element_text(size = 20),\n",
    "    plot.title = element_text(size = 18, face = \"bold\")\n",
    "  )\n",
    "\n",
    "# 画 Accuracy 热图\n",
    "p_acc <- ggplot(data_acc, aes(x = tool, y = sample, fill = Value)) +\n",
    "  geom_tile(color = \"white\") +\n",
    "  geom_text(aes(label = sprintf(\"%.2f\", Value)), color = \"white\", size = 6) +\n",
    "  scale_fill_viridis(option = \"D\", direction = 1, name = \"Value\")+\n",
    "  theme_minimal() +\n",
    "  labs(title = \"\", fill = \"Accuracy\") +\n",
    "  theme(\n",
    "    axis.text.x = element_text(angle = 0, hjust = 0.5, size = 20),\n",
    "    axis.text.y = element_text(size = 20),\n",
    "    axis.title.x = element_text(size = 20),\n",
    "    axis.title.y = element_text(size = 20),\n",
    "    legend.title = element_text(size = 20),\n",
    "    legend.text = element_text(size = 20),\n",
    "    plot.title = element_text(size = 18, face = \"bold\")\n",
    "  )\n",
    "\n",
    "# Save plots as PDF\n",
    "pdf(\"medf1_heatmap.pdf\", width = 14, height = 10)\n",
    "print(p_medf1)\n",
    "dev.off()\n",
    "\n",
    "pdf(\"accuracy_heatmap.pdf\", width = 14, height = 10)\n",
    "print(p_acc)\n",
    "dev.off()\n"
   ]
  },
  {
   "cell_type": "code",
   "execution_count": 128,
   "metadata": {
    "vscode": {
     "languageId": "r"
    }
   },
   "outputs": [],
   "source": [
    "pbmc_10x_v2_path <- \"/mnt/volume1/qyc/data/Inter-dataset/PbmcBench/10Xv2/10Xv2_pbmc1.csv\"\n",
    "pbmc_10x_v2_dir <- dirname(pbmc_10x_v2_path)\n",
    "pbmc_10x_v3_path <- \"/mnt/volume1/qyc/data/Inter-dataset/PbmcBench/10Xv3/10Xv3_pbmc1.csv\"\n",
    "pbmc_10x_v3_dir <- dirname(pbmc_10x_v3_path)\n",
    "pbmc_cel_seq_path <- \"/mnt/volume1/qyc/data/Inter-dataset/PbmcBench/CEL-Seq/CL_pbmc1.csv\"\n",
    "pbmc_cel_seq_dir <- dirname(pbmc_cel_seq_path)\n",
    "lung_cancer_10x_path <- \"/mnt/volume1/qyc/data/Intra-dataset/CellBench/10x_5cl/10x_5cl_data.csv\"\n",
    "lung_cancer_10x_dir <- dirname(lung_cancer_10x_path)\n",
    "lung_cancer_cel_seq_path <- \"/mnt/volume1/qyc/data/Intra-dataset/CellBench/CelSeq2_5cl/CelSeq2_5cl_data.csv\"\n",
    "lung_cancer_cel_seq_dir <- dirname(lung_cancer_cel_seq_path)\n",
    "pancreas_cel_seq_path <- \"/mnt/volume1/qyc/data/Intra-dataset/Pancreatic_data/Muraro/Filtered_Muraro_HumanPancreas_data.csv\"\n",
    "pancreas_cel_seq_dir <- dirname(pancreas_cel_seq_path)\n",
    "pancreas_smart_seq_path <- \"/mnt/volume1/qyc/data/Intra-dataset/Pancreatic_data/Segerstolpe/Filtered_Segerstolpe_HumanPancreas_data.csv\"\n",
    "pancreas_smart_seq_dir <- dirname(pancreas_smart_seq_path)\n",
    "brain_allen_10x_path <- \"/mnt/volume1/qyc/data/Intra-dataset/AMB/Filtered_mouse_allen_brain_data.csv\"\n",
    "brain_allen_10x_dir <- dirname(brain_allen_10x_path)\n",
    "\n",
    "results_dir <- \"/mnt/volume1/qyc/auto-annot/results\"\n",
    "\n",
    "sample_list <- list(\n",
    "  pbmc_10x_v2_path,\n",
    "  pbmc_10x_v3_path,\n",
    "  pbmc_cel_seq_path,\n",
    "  lung_cancer_10x_path,\n",
    "  lung_cancer_cel_seq_path,\n",
    "  pancreas_cel_seq_path,\n",
    "  pancreas_smart_seq_path,\n",
    "  brain_allen_10x_path\n",
    ")\n",
    "\n",
    "dir_list <- list(\n",
    "  pbmc_10x_v2_dir,\n",
    "  pbmc_10x_v3_dir,\n",
    "  pbmc_cel_seq_dir,\n",
    "  lung_cancer_10x_dir,\n",
    "  lung_cancer_cel_seq_dir,\n",
    "  pancreas_cel_seq_dir,\n",
    "  pancreas_smart_seq_dir,\n",
    "  brain_allen_10x_dir\n",
    ")"
   ]
  },
  {
   "cell_type": "code",
   "execution_count": 149,
   "metadata": {
    "vscode": {
     "languageId": "r"
    }
   },
   "outputs": [],
   "source": [
    "library(ggplot2)\n",
    "library(viridis)\n",
    "library(patchwork)\n",
    "\n",
    "visualize_cell_proportions <- function(labels_path, title_text) {\n",
    "  labels <- read.csv(labels_path, header = FALSE)\n",
    "  cell_counts <- table(labels$V1[-1])  # 跳过第一行\n",
    "  cell_props <- prop.table(cell_counts) * 100\n",
    "  plot_data <- data.frame(cell_type = names(cell_props), proportion = as.numeric(cell_props))\n",
    "  plot_data <- plot_data[order(plot_data$proportion, decreasing = TRUE), ]\n",
    "  \n",
    "  ggplot(plot_data, aes(x = reorder(cell_type, -proportion), y = proportion, fill = cell_type)) +\n",
    "    geom_bar(stat = \"identity\", show.legend = FALSE) +\n",
    "    scale_fill_viridis_d(option = \"C\") +\n",
    "    labs(\n",
    "      x = NULL,  # 去掉 x轴标题\n",
    "      y = \"Proportion (%)\",\n",
    "      title = title_text\n",
    "    ) +\n",
    "    theme_classic() +\n",
    "    theme(\n",
    "    axis.title.x = element_blank(),         # 去掉 X轴的标题“Cell Type”\n",
    "    axis.text.x = element_text(angle = 45, hjust = 1, size = 10),  # 保留刻度文字（cell types）\n",
    "    axis.ticks.x = element_line(),          # 保留刻度线\n",
    "    axis.text.y = element_text(size = 8),\n",
    "    axis.title.y = element_text(size = 10),\n",
    "    plot.title = element_text(size = 12, hjust = 0.5)\n",
    "    )\n",
    "}\n",
    "\n",
    "plots <- list()\n",
    "\n",
    "for (i in seq_along(sample_list)) {\n",
    "  sample_path <- sample_list[[i]]\n",
    "  dir_path <- dir_list[[i]]\n",
    "  labels_path <- file.path(dir_path, \"Labels.csv\")\n",
    "  if (!file.exists(labels_path)) {\n",
    "    labels_path <- paste0(tools::file_path_sans_ext(sample_path), \"Labels.csv\")\n",
    "  }\n",
    "  sample_name <- basename(sample_path)\n",
    "  plots[[i]] <- visualize_cell_proportions(labels_path, title_text = sample_name)\n",
    "}\n",
    "\n",
    "# 拼图为2行4列\n",
    "combined_plot <- wrap_plots(plots, ncol = 4)\n",
    "\n",
    "# 保存成PDF\n",
    "output_dir <- \"/mnt/volume1/qyc/auto-annot/pipelines/\"\n",
    "if (!dir.exists(output_dir)) dir.create(output_dir, recursive = TRUE)\n",
    "\n",
    "ggsave(\n",
    "  filename = file.path(output_dir, \"celltype_proportions_combined.pdf\"),\n",
    "  plot = combined_plot,\n",
    "  width = 20, height = 10, dpi = 300\n",
    ")"
   ]
  }
 ],
 "metadata": {
  "kernelspec": {
   "display_name": "R",
   "language": "R",
   "name": "ir"
  },
  "language_info": {
   "codemirror_mode": "r",
   "file_extension": ".r",
   "mimetype": "text/x-r-source",
   "name": "R",
   "pygments_lexer": "r",
   "version": "4.4.0"
  }
 },
 "nbformat": 4,
 "nbformat_minor": 2
}
