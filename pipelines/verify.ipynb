{
 "cells": [
  {
   "cell_type": "code",
   "execution_count": 3,
   "metadata": {},
   "outputs": [],
   "source": [
    "import pandas as pd\n",
    "\n",
    "# 路径替换为你的实际路径\n",
    "train_data_path = \"/mnt/volume1/qyc/data/Inter-dataset/PbmcBench/10Xv3/10Xv3_pbmc1.csv\"\n",
    "test_data_path = \"/mnt/volume1/qyc/data/Inter-dataset/PbmcBench/CEL-Seq/CL_pbmc1.csv\"\n",
    "\n",
    "# 读取数据\n",
    "train_data = pd.read_csv(train_data_path, index_col=0)\n",
    "test_data = pd.read_csv(test_data_path, index_col=0)"
   ]
  },
  {
   "cell_type": "code",
   "execution_count": 4,
   "metadata": {},
   "outputs": [],
   "source": [
    "# 获取细胞名\n",
    "train_cells = set(train_data.index)\n",
    "test_cells = set(test_data.index)"
   ]
  },
  {
   "cell_type": "code",
   "execution_count": 5,
   "metadata": {},
   "outputs": [
    {
     "name": "stdout",
     "output_type": "stream",
     "text": [
      "Number of overlapping cells: 19481\n",
      "⚠️ 发现训练集和测试集有重叠细胞，这可能导致模型作弊！\n"
     ]
    }
   ],
   "source": [
    "# 检查交集\n",
    "intersect_cells = train_cells.intersection(test_cells)\n",
    "print(f\"Number of overlapping cells: {len(intersect_cells)}\")\n",
    "if len(intersect_cells) > 0:\n",
    "    print(\"⚠️ 发现训练集和测试集有重叠细胞，这可能导致模型作弊！\")\n",
    "else:\n",
    "    print(\"✅ 训练集和测试集细胞不重合，正常。\")\n"
   ]
  }
 ],
 "metadata": {
  "kernelspec": {
   "display_name": "bidcell",
   "language": "python",
   "name": "python3"
  },
  "language_info": {
   "codemirror_mode": {
    "name": "ipython",
    "version": 3
   },
   "file_extension": ".py",
   "mimetype": "text/x-python",
   "name": "python",
   "nbconvert_exporter": "python",
   "pygments_lexer": "ipython3",
   "version": "3.10.14"
  }
 },
 "nbformat": 4,
 "nbformat_minor": 2
}
